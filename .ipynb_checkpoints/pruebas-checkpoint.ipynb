{
 "cells": [
  {
   "cell_type": "code",
   "execution_count": 16,
   "metadata": {},
   "outputs": [
    {
     "name": "stdout",
     "output_type": "stream",
     "text": [
      "         1        2        3        4        5        6        7        8   \\\n",
      "0   0.00262  0.00177  0.00325  0.00353  0.00300  0.00365  0.00544  0.00466   \n",
      "1   0.00493  0.00307  0.00216  0.00186  0.00448  0.00356  0.00370  0.00376   \n",
      "2   0.00283  0.00333  0.00369  0.00387  0.00396  0.00275  0.00569  0.00223   \n",
      "3   0.00288  0.00143  0.00456  0.00205  0.00273  0.00357  0.00175  0.00551   \n",
      "4   0.00466  0.00404  0.00313  0.00318  0.00195  0.00430  0.00437  0.00666   \n",
      "5   0.00277  0.00293  0.00373  0.00315  0.00509  0.00259  0.00512  0.00727   \n",
      "6   0.00425  0.00405  0.00389  0.00315  0.00198  0.00418  0.00526  0.00645   \n",
      "7   0.00230  0.00294  0.00217  0.00533  0.00328  0.00532  0.00596  0.00453   \n",
      "8   0.00361  0.00461  0.00000  0.00333  0.00158  0.00517  0.00364  0.00267   \n",
      "9   0.00277  0.00257  0.00327  0.00428  0.00498  0.00214  0.00292  0.00218   \n",
      "10  0.00336  0.00290  0.00120  0.00108  0.00243  0.00227  0.00562  0.00247   \n",
      "\n",
      "         9        10  ...       12       13       14       15       16  \\\n",
      "0   0.00381  0.00445  ...  0.00490  0.00220  0.00359  0.00304  0.00212   \n",
      "1   0.00381  0.00318  ...  0.00337  0.00301  0.00435  0.00369  0.00266   \n",
      "2   0.00364  0.00362  ...  0.00441  0.00644  0.00316  0.00389  0.00328   \n",
      "3   0.00627  0.01000  ...  0.00881  0.00650  0.00431  0.00486  0.00457   \n",
      "4   0.01030  0.01257  ...  0.01399  0.00934  0.00784  0.00416  0.00298   \n",
      "5   0.01273  0.01635  ...  0.01500  0.01172  0.00766  0.00644  0.00498   \n",
      "6   0.00944  0.01250  ...  0.01179  0.00905  0.00792  0.00482  0.00462   \n",
      "7   0.00395  0.00736  ...  0.00873  0.00635  0.00634  0.00205  0.00363   \n",
      "8   0.00303  0.00543  ...  0.00585  0.00430  0.00318  0.00488  0.00426   \n",
      "9   0.00302  0.00436  ...  0.00121  0.00350  0.00121  0.00400  0.00265   \n",
      "10  0.00363  0.00437  ...  0.00387  0.00385  0.00388  0.00257  0.00406   \n",
      "\n",
      "         17       18       19       20       21  \n",
      "0   0.00355  0.00247  0.00337  0.00184  0.00266  \n",
      "1   0.00396  0.00394  0.00495  0.00140  0.00387  \n",
      "2   0.00244  0.00526  0.00488  0.00387  0.00593  \n",
      "3   0.00339  0.00276  0.00339  0.00305  0.00195  \n",
      "4   0.00292  0.00323  0.00320  0.00334  0.00238  \n",
      "5   0.00359  0.00396  0.00411  0.00149  0.00321  \n",
      "6   0.00296  0.00112  0.00238  0.00271  0.00366  \n",
      "7   0.00528  0.00367  0.00467  0.00356  0.00340  \n",
      "8   0.00255  0.00400  0.00351  0.00388  0.00397  \n",
      "9   0.00234  0.00145  0.00358  0.00190  0.00268  \n",
      "10  0.00393  0.00244  0.00333  0.00235  0.00286  \n",
      "\n",
      "[11 rows x 21 columns]\n"
     ]
    },
    {
     "data": {
      "text/plain": [
       "pandas.core.frame.DataFrame"
      ]
     },
     "execution_count": 16,
     "metadata": {},
     "output_type": "execute_result"
    }
   ],
   "source": [
    "########################################\n",
    "# dataframe.loc[column] seleccionar columna\n",
    "# dataframe[begin:end]  seleccionar rango columnas\n",
    "# dataframe.at[row,column] seleccionar posición\n",
    "# df.iloc[row,column] seleccionar posicion\n",
    "########################################\n",
    "\n",
    "\n",
    "#importando bibliotecas\n",
    "import numpy as np\n",
    "import pandas as pd\n",
    "import matplotlib.pyplot as plt\n",
    "import csv\n",
    "from scipy.optimize import curve_fit \n",
    "from numpy import random\n",
    "\n",
    "#cargando datos.csv,  eliminar primer fila, no cabeceras\n",
    "datosxy=pd.read_csv('xy.csv',skiprows=1,header=None)\n",
    "del datosxy[0] #elimina la columna 0\n",
    "\n",
    "print(datosxy)\n",
    "type(datosxy)\n",
    "\n",
    "#d00=datosxy.iloc[0, 0]\n",
    "#d01=datosxy.iloc[0,1]\n",
    "#sum=d00+d01\n",
    "#print(\"%8.5f = %8.5f + %8.5f\" % (sum,d00,d01))\n",
    "\n",
    "#print(d00)\n",
    "#type(d00)\n",
    "#datosxy.mean()"
   ]
  },
  {
   "cell_type": "code",
   "execution_count": 70,
   "metadata": {},
   "outputs": [],
   "source": [
    "x=np.arange(5.0,16.0,1) # valores de x\n",
    "y=np.arange(5,26,1) # valores y  // numpy.ndarray"
   ]
  },
  {
   "cell_type": "code",
   "execution_count": 71,
   "metadata": {},
   "outputs": [
    {
     "name": "stdout",
     "output_type": "stream",
     "text": [
      "[ 5.  6.  7.  8.  9. 10. 11. 12. 13. 14. 15.]\n",
      "7.0\n"
     ]
    }
   ],
   "source": [
    "print(x)\n",
    "print(x[2])"
   ]
  },
  {
   "cell_type": "code",
   "execution_count": 7,
   "metadata": {},
   "outputs": [],
   "source": [
    "data=[1.0,2.0,3.4,4.4,5.9]\n",
    "df = pd.DataFrame(data) \n",
    "\n",
    "suma = datosxy.iloc[0,0]+x[0]"
   ]
  },
  {
   "cell_type": "code",
   "execution_count": 9,
   "metadata": {},
   "outputs": [
    {
     "name": "stdout",
     "output_type": "stream",
     "text": [
      "5.00262\n"
     ]
    }
   ],
   "source": [
    "print(suma)"
   ]
  },
  {
   "cell_type": "code",
   "execution_count": 62,
   "metadata": {},
   "outputs": [
    {
     "name": "stdout",
     "output_type": "stream",
     "text": [
      "0     0.00262\n",
      "1     0.00493\n",
      "2     0.00283\n",
      "3     0.00288\n",
      "4     0.00466\n",
      "5     0.00277\n",
      "6     0.00425\n",
      "7     0.00230\n",
      "8     0.00361\n",
      "9     0.00277\n",
      "10    0.00336\n",
      "Name: 1, dtype: float64\n",
      "0.03698\n"
     ]
    }
   ],
   "source": [
    "#print(datosxy)\n",
    "c1=datosxy.iloc[:,0] # selecciona columna\n",
    "sc1=c1.sum()\n",
    "print(c1)\n",
    "print(sc1)"
   ]
  },
  {
   "cell_type": "code",
   "execution_count": 33,
   "metadata": {},
   "outputs": [
    {
     "data": {
      "text/plain": [
       "[<matplotlib.lines.Line2D at 0x7f83235f2390>]"
      ]
     },
     "execution_count": 33,
     "metadata": {},
     "output_type": "execute_result"
    },
    {
     "data": {
      "image/png": "[encoded data removed]",
      "text/plain": [
       "<Figure size 432x288 with 1 Axes>"
      ]
     },
     "metadata": {
      "needs_background": "light"
     },
     "output_type": "display_data"
    }
   ],
   "source": [
    "plt.plot(x,c1)"
   ]
  },
  {
   "cell_type": "code",
   "execution_count": 42,
   "metadata": {},
   "outputs": [
    {
     "name": "stdout",
     "output_type": "stream",
     "text": [
      "0.06713999999999999\n"
     ]
    }
   ],
   "source": [
    "sumax1=datosxy.loc[0,:].sum()\n",
    "print(sumaC1)"
   ]
  },
  {
   "cell_type": "code",
   "execution_count": 59,
   "metadata": {},
   "outputs": [
    {
     "name": "stdout",
     "output_type": "stream",
     "text": [
      "11\n",
      "[0.06713999999999999, 0.07171999999999999, 0.08327, 0.0923, 0.12226000000000001, 0.14148999999999998, 0.12172000000000001, 0.09834000000000001, 0.07686, 0.059770000000000004, 0.06518999999999998]\n"
     ]
    }
   ],
   "source": [
    "# Calculando la función marginal de x\n",
    "\n",
    "Xs=[0 for x in range(0,11)]\n",
    "print(len(Xs))\n",
    "#print(Xs)\n",
    "\n",
    "for i in range(0,11):\n",
    "    Xs[i]=datosxy.loc[i].sum()\n",
    "\n",
    "print(Xs)\n",
    "    "
   ]
  },
  {
   "cell_type": "code",
   "execution_count": 90,
   "metadata": {},
   "outputs": [
    {
     "name": "stdout",
     "output_type": "stream",
     "text": [
      "[0, 0.03698, 0.033639999999999996, 0.03105, 0.03481, 0.03546, 0.03950000000000001, 0.04947, 0.04839, 0.06362999999999999, 0.08419000000000001, 0.07855999999999999, 0.08192999999999999, 0.06626000000000001, 0.05344000000000001, 0.04440000000000001, 0.039810000000000005, 0.03691, 0.0343, 0.041370000000000004, 0.029390000000000003]\n",
      "21\n"
     ]
    }
   ],
   "source": [
    "##################################### Calculando la función marginal de y\n",
    "\n",
    "#print(datosxy.iloc[:,0])\n",
    "#print(len(datosxy.iloc[:,0]))\n",
    "#sy5=datosxy.loc[:,1].sum()\n",
    "#print(sy5)\n",
    "Ys=[0 for y in range(0,21)]\n",
    "#print(len(Ys))\n",
    "#print(Ys)\n",
    "\n",
    "for i in range(1,21):\n",
    "    Ys[i]=datosxy.loc[:,i].sum()\n",
    "\n",
    "#print(Ys)\n",
    "#print(len(Ys))\n",
    "\n",
    "#print(y)\n",
    "#print(len(y))"
   ]
  },
  {
   "cell_type": "code",
   "execution_count": 91,
   "metadata": {},
   "outputs": [
    {
     "name": "stdout",
     "output_type": "stream",
     "text": [
      "[ 0.          0.52631579  1.05263158  1.57894737  2.10526316  2.63157895\n",
      "  3.15789474  3.68421053  4.21052632  4.73684211  5.26315789  5.78947368\n",
      "  6.31578947  6.84210526  7.36842105  7.89473684  8.42105263  8.94736842\n",
      "  9.47368421 10.        ] [2.00000000e+00 6.98036142e-01 2.43627228e-01 8.50303050e-02\n",
      " 2.96771130e-02 1.03578487e-02 3.61507639e-03 1.26172699e-03\n",
      " 4.40365519e-04 1.53695524e-04 5.36425153e-05 1.87222072e-05\n",
      " 6.53438864e-06 2.28061972e-06 7.95977495e-07 2.77810530e-07\n",
      " 9.69608951e-08 3.38411046e-08 1.18111570e-08 4.12230724e-09]\n"
     ]
    }
   ],
   "source": [
    "muestras=np.linspace(0,10,20)\n",
    "\n",
    "def distribucion(muestras,parametro):\n",
    "    return parametro * np.exp(-parametro*muestras)\n",
    "\n",
    "valores = distribucion(muestras,2)\n",
    "\n",
    "print(muestras,valores)"
   ]
  },
  {
   "cell_type": "code",
   "execution_count": 67,
   "metadata": {},
   "outputs": [
    {
     "data": {
      "text/plain": [
       "Text(0, 0.5, 'between y1 and 0')"
      ]
     },
     "execution_count": 67,
     "metadata": {},
     "output_type": "execute_result"
    },
    {
     "data": {
      "image/png": "[encoded data removed]",
      "text/plain": [
       "<Figure size 432x288 with 1 Axes>"
      ]
     },
     "metadata": {
      "needs_background": "light"
     },
     "output_type": "display_data"
    }
   ],
   "source": [
    "#semilla_array=[0 for i in range(0,99)]\n",
    "#semilla = np.random.rand(1, 100)\n",
    "\n",
    "#print(len(semilla))\n",
    "#print(semilla)\n",
    "\n",
    "# Calculando la función marginal de x\n",
    "x=np.arange(5.0,16.0,1) # valores de x\n",
    "Xs=[0 for i in range(0,11)]\n",
    "\n",
    "for i in range(0,11):\n",
    "    Xs[i]=datosxy.loc[i].sum()\n",
    "\n",
    "def gaussiana(x, mu, sigma):\n",
    "    return 1/(np.sqrt(2*np.pi*sigma**2)) * np.exp(-(x-mu)**2/(2*sigma**2))\n",
    "\n",
    "# Determinando parametros curva de mejor ajuste\n",
    "param,_=curve_fit(gaussiana,x,Xs) \n",
    "\n",
    "mu1=param[0]\n",
    "sigma1=param[1]\n",
    "\n",
    "semilla=np.linspace(1,50,100)\n",
    "#print(len(semilla))\n",
    "\n",
    "# Calculando la función marginal de y\n",
    "y=np.arange(5.0,26.0,1) # valores y \n",
    "Ys=[0 for y in range(0,21)]\n",
    "\n",
    "for i in range(1,21):\n",
    "    Ys[i]=datosxy.loc[:,i].sum()\n",
    "\n",
    "param,_=curve_fit(gaussiana,y,Ys) \n",
    "\n",
    "mu2=param[0]\n",
    "sigma2=param[1]\n",
    "\n",
    "# Evaluando curva de mejor ajuste\n",
    "curvaY=gaussiana(y,mu2,sigma2)\n",
    "\n",
    "newcurvaX=gaussiana(semilla,mu1,sigma1)\n",
    "newcurvaY=gaussiana(semilla,mu2,sigma2)\n",
    "newcurvaXY=newcurvaX*newcurvaY\n",
    "\n",
    "fig, ax1 = plt.subplots()\n",
    "ax1.fill_between(newcurvaX, newcurvaY)\n",
    "ax1.set_title('Un titulo')\n",
    "ax1.set_ylabel('between y1 and 0')\n",
    "\n",
    "\"\"\"\n",
    "fig, ax1 = plt.subplots()\n",
    "ax1.fill_between(newcurvaX,newcurvaY)\n",
    "ax1.set_title('Veficación de la independencia de X y Y')\n",
    "ax1.set_xlabel('X')\n",
    "ax1.set_ylabel('Y')\n",
    "\"\"\""
   ]
  },
  {
   "cell_type": "code",
   "execution_count": 55,
   "metadata": {},
   "outputs": [
    {
     "ename": "ValueError",
     "evalue": "`bins` must increase monotonically, when an array",
     "output_type": "error",
     "traceback": [
      "\u001b[0;31m---------------------------------------------------------------------------\u001b[0m",
      "\u001b[0;31mValueError\u001b[0m                                Traceback (most recent call last)",
      "\u001b[0;32m<ipython-input-55-e725160a6dd5>\u001b[0m in \u001b[0;36m<module>\u001b[0;34m\u001b[0m\n\u001b[1;32m      5\u001b[0m \u001b[0mx\u001b[0m \u001b[0;34m=\u001b[0m \u001b[0mnp\u001b[0m\u001b[0;34m.\u001b[0m\u001b[0mrandom\u001b[0m\u001b[0;34m.\u001b[0m\u001b[0mrandn\u001b[0m\u001b[0;34m(\u001b[0m\u001b[0;36m1000\u001b[0m\u001b[0;34m)\u001b[0m\u001b[0;34m\u001b[0m\u001b[0;34m\u001b[0m\u001b[0m\n\u001b[1;32m      6\u001b[0m \u001b[0;34m\u001b[0m\u001b[0m\n\u001b[0;32m----> 7\u001b[0;31m \u001b[0max\u001b[0m\u001b[0;34m.\u001b[0m\u001b[0mhist\u001b[0m\u001b[0;34m(\u001b[0m\u001b[0mnewcurvaX\u001b[0m\u001b[0;34m,\u001b[0m \u001b[0mnewcurvaY\u001b[0m\u001b[0;34m)\u001b[0m\u001b[0;34m\u001b[0m\u001b[0;34m\u001b[0m\u001b[0m\n\u001b[0m\u001b[1;32m      8\u001b[0m \u001b[0max\u001b[0m\u001b[0;34m.\u001b[0m\u001b[0mset_title\u001b[0m\u001b[0;34m(\u001b[0m\u001b[0;34mr'$\\sigma=1 \\/ \\dots \\/ \\sigma=2$'\u001b[0m\u001b[0;34m,\u001b[0m \u001b[0mfontsize\u001b[0m\u001b[0;34m=\u001b[0m\u001b[0;36m16\u001b[0m\u001b[0;34m)\u001b[0m\u001b[0;34m\u001b[0m\u001b[0;34m\u001b[0m\u001b[0m\n\u001b[1;32m      9\u001b[0m \u001b[0;34m\u001b[0m\u001b[0m\n",
      "\u001b[0;32m~/.local/lib/python3.6/site-packages/matplotlib/__init__.py\u001b[0m in \u001b[0;36minner\u001b[0;34m(ax, data, *args, **kwargs)\u001b[0m\n\u001b[1;32m   1563\u001b[0m     \u001b[0;32mdef\u001b[0m \u001b[0minner\u001b[0m\u001b[0;34m(\u001b[0m\u001b[0max\u001b[0m\u001b[0;34m,\u001b[0m \u001b[0;34m*\u001b[0m\u001b[0margs\u001b[0m\u001b[0;34m,\u001b[0m \u001b[0mdata\u001b[0m\u001b[0;34m=\u001b[0m\u001b[0;32mNone\u001b[0m\u001b[0;34m,\u001b[0m \u001b[0;34m**\u001b[0m\u001b[0mkwargs\u001b[0m\u001b[0;34m)\u001b[0m\u001b[0;34m:\u001b[0m\u001b[0;34m\u001b[0m\u001b[0;34m\u001b[0m\u001b[0m\n\u001b[1;32m   1564\u001b[0m         \u001b[0;32mif\u001b[0m \u001b[0mdata\u001b[0m \u001b[0;32mis\u001b[0m \u001b[0;32mNone\u001b[0m\u001b[0;34m:\u001b[0m\u001b[0;34m\u001b[0m\u001b[0;34m\u001b[0m\u001b[0m\n\u001b[0;32m-> 1565\u001b[0;31m             \u001b[0;32mreturn\u001b[0m \u001b[0mfunc\u001b[0m\u001b[0;34m(\u001b[0m\u001b[0max\u001b[0m\u001b[0;34m,\u001b[0m \u001b[0;34m*\u001b[0m\u001b[0mmap\u001b[0m\u001b[0;34m(\u001b[0m\u001b[0msanitize_sequence\u001b[0m\u001b[0;34m,\u001b[0m \u001b[0margs\u001b[0m\u001b[0;34m)\u001b[0m\u001b[0;34m,\u001b[0m \u001b[0;34m**\u001b[0m\u001b[0mkwargs\u001b[0m\u001b[0;34m)\u001b[0m\u001b[0;34m\u001b[0m\u001b[0;34m\u001b[0m\u001b[0m\n\u001b[0m\u001b[1;32m   1566\u001b[0m \u001b[0;34m\u001b[0m\u001b[0m\n\u001b[1;32m   1567\u001b[0m         \u001b[0mbound\u001b[0m \u001b[0;34m=\u001b[0m \u001b[0mnew_sig\u001b[0m\u001b[0;34m.\u001b[0m\u001b[0mbind\u001b[0m\u001b[0;34m(\u001b[0m\u001b[0max\u001b[0m\u001b[0;34m,\u001b[0m \u001b[0;34m*\u001b[0m\u001b[0margs\u001b[0m\u001b[0;34m,\u001b[0m \u001b[0;34m**\u001b[0m\u001b[0mkwargs\u001b[0m\u001b[0;34m)\u001b[0m\u001b[0;34m\u001b[0m\u001b[0;34m\u001b[0m\u001b[0m\n",
      "\u001b[0;32m~/.local/lib/python3.6/site-packages/matplotlib/axes/_axes.py\u001b[0m in \u001b[0;36mhist\u001b[0;34m(self, x, bins, range, density, weights, cumulative, bottom, histtype, align, orientation, rwidth, log, color, label, stacked, **kwargs)\u001b[0m\n\u001b[1;32m   6647\u001b[0m             \u001b[0;31m# this will automatically overwrite bins,\u001b[0m\u001b[0;34m\u001b[0m\u001b[0;34m\u001b[0m\u001b[0;34m\u001b[0m\u001b[0m\n\u001b[1;32m   6648\u001b[0m             \u001b[0;31m# so that each histogram uses the same bins\u001b[0m\u001b[0;34m\u001b[0m\u001b[0;34m\u001b[0m\u001b[0;34m\u001b[0m\u001b[0m\n\u001b[0;32m-> 6649\u001b[0;31m             \u001b[0mm\u001b[0m\u001b[0;34m,\u001b[0m \u001b[0mbins\u001b[0m \u001b[0;34m=\u001b[0m \u001b[0mnp\u001b[0m\u001b[0;34m.\u001b[0m\u001b[0mhistogram\u001b[0m\u001b[0;34m(\u001b[0m\u001b[0mx\u001b[0m\u001b[0;34m[\u001b[0m\u001b[0mi\u001b[0m\u001b[0;34m]\u001b[0m\u001b[0;34m,\u001b[0m \u001b[0mbins\u001b[0m\u001b[0;34m,\u001b[0m \u001b[0mweights\u001b[0m\u001b[0;34m=\u001b[0m\u001b[0mw\u001b[0m\u001b[0;34m[\u001b[0m\u001b[0mi\u001b[0m\u001b[0;34m]\u001b[0m\u001b[0;34m,\u001b[0m \u001b[0;34m**\u001b[0m\u001b[0mhist_kwargs\u001b[0m\u001b[0;34m)\u001b[0m\u001b[0;34m\u001b[0m\u001b[0;34m\u001b[0m\u001b[0m\n\u001b[0m\u001b[1;32m   6650\u001b[0m             \u001b[0mtops\u001b[0m\u001b[0;34m.\u001b[0m\u001b[0mappend\u001b[0m\u001b[0;34m(\u001b[0m\u001b[0mm\u001b[0m\u001b[0;34m)\u001b[0m\u001b[0;34m\u001b[0m\u001b[0;34m\u001b[0m\u001b[0m\n\u001b[1;32m   6651\u001b[0m         \u001b[0mtops\u001b[0m \u001b[0;34m=\u001b[0m \u001b[0mnp\u001b[0m\u001b[0;34m.\u001b[0m\u001b[0marray\u001b[0m\u001b[0;34m(\u001b[0m\u001b[0mtops\u001b[0m\u001b[0;34m,\u001b[0m \u001b[0mfloat\u001b[0m\u001b[0;34m)\u001b[0m  \u001b[0;31m# causes problems later if it's an int\u001b[0m\u001b[0;34m\u001b[0m\u001b[0;34m\u001b[0m\u001b[0m\n",
      "\u001b[0;32m<__array_function__ internals>\u001b[0m in \u001b[0;36mhistogram\u001b[0;34m(*args, **kwargs)\u001b[0m\n",
      "\u001b[0;32m~/.local/lib/python3.6/site-packages/numpy/lib/histograms.py\u001b[0m in \u001b[0;36mhistogram\u001b[0;34m(a, bins, range, normed, weights, density)\u001b[0m\n\u001b[1;32m    793\u001b[0m     \u001b[0ma\u001b[0m\u001b[0;34m,\u001b[0m \u001b[0mweights\u001b[0m \u001b[0;34m=\u001b[0m \u001b[0m_ravel_and_check_weights\u001b[0m\u001b[0;34m(\u001b[0m\u001b[0ma\u001b[0m\u001b[0;34m,\u001b[0m \u001b[0mweights\u001b[0m\u001b[0;34m)\u001b[0m\u001b[0;34m\u001b[0m\u001b[0;34m\u001b[0m\u001b[0m\n\u001b[1;32m    794\u001b[0m \u001b[0;34m\u001b[0m\u001b[0m\n\u001b[0;32m--> 795\u001b[0;31m     \u001b[0mbin_edges\u001b[0m\u001b[0;34m,\u001b[0m \u001b[0muniform_bins\u001b[0m \u001b[0;34m=\u001b[0m \u001b[0m_get_bin_edges\u001b[0m\u001b[0;34m(\u001b[0m\u001b[0ma\u001b[0m\u001b[0;34m,\u001b[0m \u001b[0mbins\u001b[0m\u001b[0;34m,\u001b[0m \u001b[0mrange\u001b[0m\u001b[0;34m,\u001b[0m \u001b[0mweights\u001b[0m\u001b[0;34m)\u001b[0m\u001b[0;34m\u001b[0m\u001b[0;34m\u001b[0m\u001b[0m\n\u001b[0m\u001b[1;32m    796\u001b[0m \u001b[0;34m\u001b[0m\u001b[0m\n\u001b[1;32m    797\u001b[0m     \u001b[0;31m# Histogram is an integer or a float array depending on the weights.\u001b[0m\u001b[0;34m\u001b[0m\u001b[0;34m\u001b[0m\u001b[0;34m\u001b[0m\u001b[0m\n",
      "\u001b[0;32m~/.local/lib/python3.6/site-packages/numpy/lib/histograms.py\u001b[0m in \u001b[0;36m_get_bin_edges\u001b[0;34m(a, bins, range, weights)\u001b[0m\n\u001b[1;32m    433\u001b[0m         \u001b[0;32mif\u001b[0m \u001b[0mnp\u001b[0m\u001b[0;34m.\u001b[0m\u001b[0many\u001b[0m\u001b[0;34m(\u001b[0m\u001b[0mbin_edges\u001b[0m\u001b[0;34m[\u001b[0m\u001b[0;34m:\u001b[0m\u001b[0;34m-\u001b[0m\u001b[0;36m1\u001b[0m\u001b[0;34m]\u001b[0m \u001b[0;34m>\u001b[0m \u001b[0mbin_edges\u001b[0m\u001b[0;34m[\u001b[0m\u001b[0;36m1\u001b[0m\u001b[0;34m:\u001b[0m\u001b[0;34m]\u001b[0m\u001b[0;34m)\u001b[0m\u001b[0;34m:\u001b[0m\u001b[0;34m\u001b[0m\u001b[0;34m\u001b[0m\u001b[0m\n\u001b[1;32m    434\u001b[0m             raise ValueError(\n\u001b[0;32m--> 435\u001b[0;31m                 '`bins` must increase monotonically, when an array')\n\u001b[0m\u001b[1;32m    436\u001b[0m \u001b[0;34m\u001b[0m\u001b[0m\n\u001b[1;32m    437\u001b[0m     \u001b[0;32melse\u001b[0m\u001b[0;34m:\u001b[0m\u001b[0;34m\u001b[0m\u001b[0;34m\u001b[0m\u001b[0m\n",
      "\u001b[0;31mValueError\u001b[0m: `bins` must increase monotonically, when an array"
     ]
    },
    {
     "data": {
      "image/png": "[encoded data removed]",
      "text/plain": [
       "<Figure size 432x288 with 1 Axes>"
      ]
     },
     "metadata": {
      "needs_background": "light"
     },
     "output_type": "display_data"
    }
   ],
   "source": [
    "import matplotlib.transforms as transforms\n",
    "import matplotlib.patches as mpatches\n",
    "\n",
    "fig, ax = plt.subplots()\n",
    "x = np.random.randn(1000)\n",
    "\n",
    "ax.hist(newcurvaX, newcurvaY)\n",
    "ax.set_title(r'$\\sigma=1 \\/ \\dots \\/ \\sigma=2$', fontsize=16)\n",
    "\n",
    "# the x coords of this transformation are data, and the\n",
    "# y coord are axes\n",
    "trans = transforms.blended_transform_factory(\n",
    "    ax.transData, ax.transAxes)\n",
    "\n",
    "# highlight the 1..2 stddev region with a span.\n",
    "# We want x to be in data coordinates and y to\n",
    "# span from 0..1 in axes coords\n",
    "rect = mpatches.Rectangle((1, 0), width=1, height=1,\n",
    "                         transform=trans, color='yellow',\n",
    "                         alpha=0.5)\n",
    "\n",
    "ax.add_patch(rect)\n",
    "\n",
    "plt.show()"
   ]
  },
  {
   "cell_type": "code",
   "execution_count": 64,
   "metadata": {},
   "outputs": [
    {
     "data": {
      "text/plain": [
       "\"\\nax2.fill_between(x, y1, 1)\\nax2.set_ylabel('between y1 and 1')\\n\\nax3.fill_between(x, y1, y2)\\nax3.set_ylabel('between y1 and y2')\\nax3.set_xlabel('x')\\n\""
      ]
     },
     "execution_count": 64,
     "metadata": {},
     "output_type": "execute_result"
    },
    {
     "data": {
      "image/png": "[encoded data removed]",
      "text/plain": [
       "<Figure size 432x288 with 1 Axes>"
      ]
     },
     "metadata": {
      "needs_background": "light"
     },
     "output_type": "display_data"
    }
   ],
   "source": [
    "x = np.arange(0.0, 2, 0.01)\n",
    "y1 = np.sin(2 * np.pi * x)\n",
    "#y2 = 1.2 * np.sin(4 * np.pi * x)\n",
    "\n",
    "\n",
    "fig, (ax1) = plt.subplots(1, 1, sharex=True)\n",
    "#fig, (ax1, ax2, ax3) = plt.subplots(3, 1, sharex=True)\n",
    "\n",
    "ax1.fill_between(x, 0, y1)\n",
    "ax1.set_title('Un titulo')\n",
    "ax1.set_ylabel('between y1 and 0')\n",
    "\n",
    "\"\"\"\n",
    "ax2.fill_between(x, y1, 1)\n",
    "ax2.set_ylabel('between y1 and 1')\n",
    "\n",
    "ax3.fill_between(x, y1, y2)\n",
    "ax3.set_ylabel('between y1 and y2')\n",
    "ax3.set_xlabel('x')\n",
    "\"\"\"\n"
   ]
  },
  {
   "cell_type": "markdown",
   "metadata": {},
   "source": [
    "# Correlacion"
   ]
  },
  {
   "cell_type": "code",
   "execution_count": 188,
   "metadata": {},
   "outputs": [
    {
     "name": "stdout",
     "output_type": "stream",
     "text": [
      "      0   1        2        3\n",
      "0     5   5  0.00262  0.06550\n",
      "1     5   6  0.00177  0.06372\n",
      "2     5   7  0.00325  0.15925\n",
      "3     5   8  0.00353  0.22592\n",
      "4     5   9  0.00300  0.24300\n",
      "..   ..  ..      ...      ...\n",
      "226  15  21  0.00393  1.73313\n",
      "227  15  22  0.00244  1.18096\n",
      "228  15  23  0.00333  1.76157\n",
      "229  15  24  0.00235  1.35360\n",
      "230  15  25  0.00286  1.78750\n",
      "\n",
      "[231 rows x 4 columns]\n",
      "la correlacion es:\n",
      "254.53014000000002\n"
     ]
    }
   ],
   "source": [
    "#cargando datos.csv,  eliminar primer fila, no cabeceras\n",
    "datosxyp=pd.read_csv('xyp.csv',skiprows=1,header=None)\n",
    "\n",
    "\n",
    "datosxyp[3] = datosxyp[1] * datosxyp[1] * datosxyp[2]\n",
    "print(datosxyp)\n",
    "\n",
    "correlacion=datosxyp.loc[:,3].sum()\n",
    "print('la correlacion es:')\n",
    "print(correlacion)\n",
    "#for i in range(1,21):\n",
    "#    Ys[i]=datosxy.loc[:,i].sum()\n",
    "\n",
    "datosxyp.to_csv('correlacion.csv')"
   ]
  },
  {
   "cell_type": "code",
   "execution_count": 114,
   "metadata": {},
   "outputs": [
    {
     "data": {
      "text/plain": [
       "'\\nfor i in (0,11):\\n    for j in (0,21):\\n        correlacion_mutiplicaciones[i*j] = x[i]*y[j]*datosxy.iloc[i,j]\\n'"
      ]
     },
     "execution_count": 114,
     "metadata": {},
     "output_type": "execute_result"
    }
   ],
   "source": [
    "\"\"\"\n",
    "for i in (0,11):\n",
    "    for j in (0,21):\n",
    "        correlacion_mutiplicaciones[i*j] = x[i]*y[j]*datosxy.iloc[i,j]\n",
    "\"\"\""
   ]
  }
 ],
 "metadata": {
  "kernelspec": {
   "display_name": "Python 3",
   "language": "python",
   "name": "python3"
  },
  "language_info": {
   "codemirror_mode": {
    "name": "ipython",
    "version": 3
   },
   "file_extension": ".py",
   "mimetype": "text/x-python",
   "name": "python",
   "nbconvert_exporter": "python",
   "pygments_lexer": "ipython3",
   "version": "3.6.9"
  }
 },
 "nbformat": 4,
 "nbformat_minor": 4
}
